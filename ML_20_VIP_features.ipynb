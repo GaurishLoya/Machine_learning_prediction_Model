{
 "cells": [
  {
   "cell_type": "code",
   "execution_count": 17,
   "metadata": {},
   "outputs": [
    {
     "name": "stdout",
     "output_type": "stream",
     "text": [
      "[[18  0]\n",
      " [ 1 32]]\n",
      "              precision    recall  f1-score   support\n",
      "\n",
      "  Non-Severe       0.95      1.00      0.97        18\n",
      "      Severe       1.00      0.97      0.98        33\n",
      "\n",
      "    accuracy                           0.98        51\n",
      "   macro avg       0.97      0.98      0.98        51\n",
      "weighted avg       0.98      0.98      0.98        51\n",
      "\n",
      "[[5 0]\n",
      " [1 7]]\n",
      "              precision    recall  f1-score   support\n",
      "\n",
      "  Non-Severe       0.83      1.00      0.91         5\n",
      "      Severe       1.00      0.88      0.93         8\n",
      "\n",
      "    accuracy                           0.92        13\n",
      "   macro avg       0.92      0.94      0.92        13\n",
      "weighted avg       0.94      0.92      0.92        13\n",
      "\n"
     ]
    },
    {
     "data": {
      "image/png": "[encoded data removed]",
      "text/plain": [
       "<Figure size 432x288 with 1 Axes>"
      ]
     },
     "metadata": {
      "needs_background": "light"
     },
     "output_type": "display_data"
    }
   ],
   "source": [
    "import pandas as pd\n",
    "import numpy as np\n",
    "import matplotlib.pyplot as plt\n",
    "from sklearn.metrics import accuracy_score\n",
    "data = pd.read_csv (r'C:\\Users\\Gaurish\\Desktop\\Supplimentary_data_GL/Supplimentary_data4_GL.csv')  \n",
    "\n",
    "data.shape\n",
    "\n",
    "X = data.drop('Class', axis=1)\n",
    "y = data['Class']\n",
    "\n",
    "#Splitting data with a split ratio of 0.25 \n",
    "from sklearn.model_selection import train_test_split\n",
    "X_train, X_test, y_train, y_test = train_test_split(X, y, test_size = 0.25)\n",
    "\n",
    "#Data validation of 10\n",
    "train, validation = train_test_split(data, test_size=0.10, random_state = None)\n",
    "\n",
    "#Importing linear Support Vector Machine Model\n",
    "from sklearn.svm import SVC\n",
    "clf = SVC(kernel='linear')\n",
    "clf.fit(X_train, y_train)\n",
    "\n",
    "y_pred = clf.predict(X)\n",
    "\n",
    "#Confusion matrix for overall performance\n",
    "from sklearn.metrics import classification_report, confusion_matrix\n",
    "print(confusion_matrix(y,y_pred))\n",
    "print(classification_report(y,y_pred))\n",
    "from sklearn import datasets, metrics, model_selection, svm\n",
    "import seaborn as sn\n",
    "import pandas as pd\n",
    "\n",
    "#ROC-AUC plot\n",
    "Accuracy_keras = accuracy_score(y, y_pred, normalize = True) \n",
    "#Accuracy_df.append(Accuracy_keras)\n",
    "svc_disp = metrics.plot_roc_curve(clf, X_test, y_test, color='red')\n",
    "plt.plot([0, 1], [0, 1], color='black', linestyle='--')\n",
    "col=\"ROC-AUC\"\n",
    "plt.title(col)\n",
    "plt.savefig(f'{col}_ROC.jpeg', dpi = 300, bbox_inches = \"tight\")\n",
    "\n",
    "#Confusion matrix for test samples\n",
    "y_pred = clf.predict(X_test)\n",
    "Accuracy_keras = accuracy_score(y_test, y_pred, normalize = True)\n",
    "print(confusion_matrix(y_test,y_pred))\n",
    "print(classification_report(y_test,y_pred))"
   ]
  },
  {
   "cell_type": "code",
   "execution_count": null,
   "metadata": {},
   "outputs": [],
   "source": []
  }
 ],
 "metadata": {
  "kernelspec": {
   "display_name": "Python 3",
   "language": "python",
   "name": "python3"
  },
  "language_info": {
   "codemirror_mode": {
    "name": "ipython",
    "version": 3
   },
   "file_extension": ".py",
   "mimetype": "text/x-python",
   "name": "python",
   "nbconvert_exporter": "python",
   "pygments_lexer": "ipython3",
   "version": "3.8.5"
  }
 },
 "nbformat": 4,
 "nbformat_minor": 4
}
